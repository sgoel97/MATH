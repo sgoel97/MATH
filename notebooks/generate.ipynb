{
 "cells": [
  {
   "cell_type": "code",
   "execution_count": 2,
   "metadata": {},
   "outputs": [],
   "source": [
    "%load_ext autoreload\n",
    "%autoreload 2"
   ]
  },
  {
   "cell_type": "code",
   "execution_count": 17,
   "metadata": {},
   "outputs": [],
   "source": [
    "from pathlib import Path\n",
    "import json\n",
    "from IPython.display import Latex, display\n",
    "from openai import OpenAI\n",
    "import numpy as np\n",
    "from latex2sympy2 import latex2sympy\n",
    "from tqdm.auto import tqdm\n",
    "from datetime import datetime\n",
    "\n",
    "from utils.string_utils import *\n",
    "from utils.file_utils import *\n",
    "from utils.generation_utils import *"
   ]
  },
  {
   "cell_type": "code",
   "execution_count": 4,
   "metadata": {},
   "outputs": [],
   "source": [
    "client = OpenAI()"
   ]
  },
  {
   "cell_type": "markdown",
   "metadata": {},
   "source": [
    "## Load Data\n"
   ]
  },
  {
   "cell_type": "code",
   "execution_count": 5,
   "metadata": {},
   "outputs": [],
   "source": [
    "train_dir = Path(\"train\")\n",
    "train_files = np.array(list(train_dir.glob(\"*/*.json\")))"
   ]
  },
  {
   "cell_type": "code",
   "execution_count": 6,
   "metadata": {},
   "outputs": [
    {
     "name": "stdout",
     "output_type": "stream",
     "text": [
      "Category Filecount:\n",
      "##########\n",
      "counting_and_probability: 771\n",
      "intermediate_algebra: 1295\n",
      "counting_and_probability_sample: 430\n",
      "number_theory: 869\n",
      "precalculus: 746\n",
      "prealgebra: 1205\n",
      "geometry: 870\n",
      "algebra: 1744\n"
     ]
    }
   ],
   "source": [
    "train_files_by_category = {}\n",
    "\n",
    "train_subdirs = list(train_dir.glob(\"*\"))\n",
    "print(\"Category Filecount:\\n##########\")\n",
    "for train_subcategory in train_subdirs:\n",
    "    train_files_by_category[train_subcategory.name] = np.array(\n",
    "        list(train_subcategory.glob(\"*.json\"))\n",
    "    )\n",
    "    print(\n",
    "        f\"{train_subcategory.name}: {len(train_files_by_category[train_subcategory.name])}\"\n",
    "    )"
   ]
  },
  {
   "cell_type": "markdown",
   "metadata": {},
   "source": [
    "## Zero-Shot Generation\n"
   ]
  },
  {
   "cell_type": "code",
   "execution_count": 6,
   "metadata": {},
   "outputs": [],
   "source": [
    "def generate(question_file):\n",
    "    question = get_question_from_file(question_file)\n",
    "    question[\"solution\"] = question[\"solution\"].replace(\"\\\\!\", \"\")\n",
    "\n",
    "    answer = generate_answer(client, question)\n",
    "    matching = verify_answer(answer, question)\n",
    "    return {\n",
    "        \"file_path\": question_file.as_posix(),\n",
    "        \"question\": question,\n",
    "        \"answer\": answer,\n",
    "        \"final_answer\": extract_answer(answer),\n",
    "        \"final_ground_truth\": extract_answer(question[\"solution\"]),\n",
    "        \"matching\": matching,\n",
    "    }"
   ]
  },
  {
   "cell_type": "code",
   "execution_count": 11,
   "metadata": {},
   "outputs": [],
   "source": [
    "def generate_for_category(category, output_file):\n",
    "    Path(f\"generations/{category}\").mkdir(parents=True, exist_ok=True)\n",
    "    output_file = Path(f\"generations/{category}/{output_file}.json\")\n",
    "    train_files = train_files_by_category[category]\n",
    "\n",
    "    generations = {}\n",
    "    if output_file.exists():\n",
    "        with open(output_file) as f:\n",
    "            generations = json.load(f)\n",
    "\n",
    "    failures = []\n",
    "    for file in tqdm(train_files):\n",
    "        if file.as_posix() in generations:\n",
    "            continue\n",
    "\n",
    "        try:\n",
    "            generations[file.as_posix()] = generate(file)\n",
    "            with open(output_file, \"w\") as f:\n",
    "                json.dump(generations, f)\n",
    "        except:\n",
    "            print(f\"File {file} failed to generate\")\n",
    "            failures.append(file)\n",
    "\n",
    "    print(\"done\")\n",
    "    return failures"
   ]
  },
  {
   "cell_type": "code",
   "execution_count": 12,
   "metadata": {},
   "outputs": [
    {
     "data": {
      "application/vnd.jupyter.widget-view+json": {
       "model_id": "19f365b4862646699f1791c32826b898",
       "version_major": 2,
       "version_minor": 0
      },
      "text/plain": [
       "  0%|          | 0/1744 [00:00<?, ?it/s]"
      ]
     },
     "metadata": {},
     "output_type": "display_data"
    },
    {
     "name": "stdout",
     "output_type": "stream",
     "text": [
      "File train/algebra/2075.json failed to generate\n",
      "File train/algebra/1120.json failed to generate\n",
      "File train/algebra/1931.json failed to generate\n",
      "File train/algebra/768.json failed to generate\n",
      "File train/algebra/1161.json failed to generate\n",
      "File train/algebra/695.json failed to generate\n",
      "File train/algebra/380.json failed to generate\n",
      "File train/algebra/601.json failed to generate\n",
      "File train/algebra/1771.json failed to generate\n",
      "File train/algebra/2761.json failed to generate\n",
      "File train/algebra/1337.json failed to generate\n",
      "File train/algebra/2632.json failed to generate\n",
      "File train/algebra/2645.json failed to generate\n",
      "File train/algebra/2757.json failed to generate\n",
      "File train/algebra/637.json failed to generate\n",
      "File train/algebra/1497.json failed to generate\n",
      "File train/algebra/1301.json failed to generate\n",
      "File train/algebra/1751.json failed to generate\n",
      "File train/algebra/1244.json failed to generate\n",
      "File train/algebra/2346.json failed to generate\n",
      "File train/algebra/363.json failed to generate\n",
      "File train/algebra/932.json failed to generate\n",
      "File train/algebra/1638.json failed to generate\n",
      "File train/algebra/94.json failed to generate\n",
      "File train/algebra/436.json failed to generate\n",
      "File train/algebra/2686.json failed to generate\n",
      "File train/algebra/2405.json failed to generate\n",
      "File train/algebra/1383.json failed to generate\n",
      "File train/algebra/1679.json failed to generate\n",
      "File train/algebra/1229.json failed to generate\n",
      "File train/algebra/2813.json failed to generate\n",
      "File train/algebra/709.json failed to generate\n",
      "File train/algebra/1696.json failed to generate\n",
      "File train/algebra/2110.json failed to generate\n",
      "File train/algebra/2540.json failed to generate\n",
      "File train/algebra/2794.json failed to generate\n",
      "File train/algebra/924.json failed to generate\n",
      "File train/algebra/477.json failed to generate\n",
      "File train/algebra/1012.json failed to generate\n",
      "File train/algebra/532.json failed to generate\n",
      "File train/algebra/162.json failed to generate\n",
      "File train/algebra/1854.json failed to generate\n",
      "File train/algebra/2281.json failed to generate\n",
      "File train/algebra/861.json failed to generate\n",
      "File train/algebra/2452.json failed to generate\n",
      "File train/algebra/1785.json failed to generate\n",
      "File train/algebra/2003.json failed to generate\n",
      "File train/algebra/2516.json failed to generate\n",
      "File train/algebra/1290.json failed to generate\n",
      "File train/algebra/2795.json failed to generate\n",
      "File train/algebra/925.json failed to generate\n",
      "File train/algebra/1013.json failed to generate\n",
      "File train/algebra/1156.json failed to generate\n",
      "File train/algebra/163.json failed to generate\n",
      "File train/algebra/860.json failed to generate\n",
      "File train/algebra/2280.json failed to generate\n",
      "File train/algebra/2054.json failed to generate\n",
      "File train/algebra/1382.json failed to generate\n",
      "File train/algebra/1228.json failed to generate\n",
      "File train/algebra/2812.json failed to generate\n",
      "File train/algebra/708.json failed to generate\n",
      "File train/algebra/1697.json failed to generate\n",
      "File train/algebra/358.json failed to generate\n",
      "File train/algebra/1414.json failed to generate\n",
      "File train/algebra/1947.json failed to generate\n",
      "File train/algebra/2668.json failed to generate\n",
      "File train/algebra/7.json failed to generate\n",
      "File train/algebra/83.json failed to generate\n",
      "File train/algebra/837.json failed to generate\n",
      "File train/algebra/1802.json failed to generate\n",
      "File train/algebra/134.json failed to generate\n",
      "File train/algebra/1101.json failed to generate\n",
      "File train/algebra/564.json failed to generate\n",
      "File train/algebra/1551.json failed to generate\n",
      "File train/algebra/25272.json failed to generate\n",
      "File train/algebra/25337.json failed to generate\n",
      "File train/algebra/2828.json failed to generate\n",
      "File train/algebra/732.json failed to generate\n",
      "File train/algebra/1642.json failed to generate\n"
     ]
    }
   ],
   "source": [
    "curr_time = datetime.now().strftime(\"%Y-%m-%d\")\n",
    "generate_for_category(\"algebra\", f\"{curr_time}_run1\")"
   ]
  },
  {
   "cell_type": "markdown",
   "metadata": {},
   "source": [
    "### Zero-Shot Troubleshooting\n"
   ]
  },
  {
   "cell_type": "code",
   "execution_count": 136,
   "metadata": {},
   "outputs": [],
   "source": [
    "q = get_question_from_file(Path(\"train/counting_and_probability_sample/5122.json\"))\n",
    "a = generate_answer(q)"
   ]
  },
  {
   "cell_type": "code",
   "execution_count": 137,
   "metadata": {},
   "outputs": [
    {
     "data": {
      "text/plain": [
       "{'problem': 'Six distinct integers are picked at random from $\\\\{1,2,3,\\\\ldots,10\\\\}$. What is the probability that, among those selected, the second smallest is $3$?\\n$\\\\textbf{(A)}\\\\ \\\\frac{1}{60}\\\\qquad \\\\textbf{(B)}\\\\ \\\\frac{1}{6}\\\\qquad \\\\textbf{(C)}\\\\ \\\\frac{1}{3}\\\\qquad \\\\textbf{(D)}\\\\ \\\\frac{1}{2}\\\\qquad \\\\textbf{(E)}\\\\ \\\\text{none of these}$\\n',\n",
       " 'level': 'Level 5',\n",
       " 'type': 'Counting & Probability',\n",
       " 'solution': 'The total number of ways to choose 6 numbers is ${10\\\\choose 6} = 210$.\\nAssume $3$ is the second-lowest number. There are $5$ numbers left to choose, $4$ of which must be greater than $3$, and $1$ of which must be less than $3$. This is equivalent to choosing $4$ numbers from the $7$ numbers larger than $3$, and $1$ number from the $2$ numbers less than $3$.\\\\[{7\\\\choose 4} {2\\\\choose 1}= 35\\\\times2\\\\].\\nThus, $\\\\frac{35\\\\times2}{210} = \\\\boxed{\\\\frac{1}{3}}$.'}"
      ]
     },
     "execution_count": 137,
     "metadata": {},
     "output_type": "execute_result"
    }
   ],
   "source": [
    "q"
   ]
  },
  {
   "cell_type": "code",
   "execution_count": 138,
   "metadata": {},
   "outputs": [
    {
     "data": {
      "text/plain": [
       "('\\\\frac{1}{3}', '\\\\frac{3}{5}')"
      ]
     },
     "execution_count": 138,
     "metadata": {},
     "output_type": "execute_result"
    }
   ],
   "source": [
    "extract_answer(q[\"solution\"]), extract_answer(a)"
   ]
  },
  {
   "cell_type": "code",
   "execution_count": 139,
   "metadata": {},
   "outputs": [
    {
     "data": {
      "text/latex": [
       "$\\displaystyle 1 \\cdot \\frac{1}{3}$"
      ],
      "text/plain": [
       "1/3"
      ]
     },
     "execution_count": 139,
     "metadata": {},
     "output_type": "execute_result"
    }
   ],
   "source": [
    "latex2sympy(\"\\\\frac{1}{3}\")"
   ]
  },
  {
   "cell_type": "markdown",
   "metadata": {},
   "source": [
    "## Parrelized Generation\n"
   ]
  },
  {
   "cell_type": "code",
   "execution_count": 18,
   "metadata": {},
   "outputs": [],
   "source": [
    "questions = get_questions_from_files(train_files[:5])\n",
    "questions = preprocess_questions(questions)\n",
    "messages = get_prompt_template_from_questions(questions)"
   ]
  },
  {
   "cell_type": "code",
   "execution_count": 20,
   "metadata": {},
   "outputs": [],
   "source": [
    "data_json = []\n",
    "for idx, message in enumerate(messages):\n",
    "    data_json.append(\n",
    "        {\"model\": \"gpt-3.5-turbo\", \"messages\": message, \"metadata\": {\"row_id\": idx}}\n",
    "    )"
   ]
  },
  {
   "cell_type": "code",
   "execution_count": 22,
   "metadata": {},
   "outputs": [],
   "source": [
    "with open('./test.jsonl', 'w') as out:\n",
    "    for ddict in data_json:\n",
    "        jout = json.dumps(ddict) + '\\n'\n",
    "        out.write(jout)"
   ]
  },
  {
   "cell_type": "code",
   "execution_count": null,
   "metadata": {},
   "outputs": [],
   "source": []
  }
 ],
 "metadata": {
  "kernelspec": {
   "display_name": "base",
   "language": "python",
   "name": "python3"
  },
  "language_info": {
   "codemirror_mode": {
    "name": "ipython",
    "version": 3
   },
   "file_extension": ".py",
   "mimetype": "text/x-python",
   "name": "python",
   "nbconvert_exporter": "python",
   "pygments_lexer": "ipython3",
   "version": "3.11.5"
  }
 },
 "nbformat": 4,
 "nbformat_minor": 2
}
