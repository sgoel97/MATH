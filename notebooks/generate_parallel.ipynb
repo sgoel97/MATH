{
 "cells": [
  {
   "cell_type": "markdown",
   "metadata": {},
   "source": [
    "# Generate Parellel API Requests\n"
   ]
  },
  {
   "cell_type": "code",
   "execution_count": 4,
   "metadata": {},
   "outputs": [],
   "source": [
    "import json\n",
    "import os\n",
    "from openai import OpenAI"
   ]
  },
  {
   "cell_type": "code",
   "execution_count": 5,
   "metadata": {},
   "outputs": [],
   "source": [
    "client = OpenAI()"
   ]
  },
  {
   "cell_type": "markdown",
   "metadata": {},
   "source": [
    "## Create output JSONL file for Topic\n"
   ]
  },
  {
   "cell_type": "code",
   "execution_count": 3,
   "metadata": {},
   "outputs": [],
   "source": [
    "topic = \"test\""
   ]
  },
  {
   "cell_type": "code",
   "execution_count": 2,
   "metadata": {},
   "outputs": [
    {
     "name": "stdout",
     "output_type": "stream",
     "text": [
      "INFO:root:Starting request #0\n",
      "INFO:root:Starting request #1\n",
      "INFO:root:Starting request #2\n",
      "INFO:root:Starting request #3\n",
      "INFO:root:Starting request #4\n",
      "INFO:root:Starting request #5\n",
      "INFO:root:Starting request #6\n",
      "INFO:root:Starting request #7\n",
      "INFO:root:Starting request #8\n",
      "INFO:root:Starting request #9\n",
      "INFO:root:Starting request #10\n",
      "INFO:root:Starting request #11\n",
      "INFO:root:Starting request #12\n",
      "INFO:root:Starting request #13\n",
      "INFO:root:Starting request #14\n",
      "INFO:root:Starting request #15\n",
      "INFO:root:Starting request #16\n",
      "INFO:root:Parallel processing complete. Results saved to ../data/train_generated/test.jsonl\n"
     ]
    }
   ],
   "source": [
    "!python parallel_processing.py \\\n",
    "  --requests_filepath ../data/train_prepared/{topic}.jsonl \\\n",
    "  --save_filepath ../data/train_generated/{topic}.jsonl \\\n",
    "  --request_url https://api.openai.com/v1/chat/completions \\\n",
    "  --max_requests_per_minute 500 \\\n",
    "  --max_tokens_per_minute 60000 \\\n",
    "  --token_encoding_name cl100k_base \\\n",
    "  --max_attempts 5 \\\n",
    "  --logging_level 20"
   ]
  },
  {
   "cell_type": "code",
   "execution_count": 6,
   "metadata": {},
   "outputs": [
    {
     "name": "stdout",
     "output_type": "stream",
     "text": [
      "resolved 0 errors\n"
     ]
    }
   ],
   "source": [
    "original_file_path = f\"../data/train_generated/{topic}.jsonl\"\n",
    "temp_file_path = f\"../data/train_generated/{topic}_temp.jsonl\"\n",
    "\n",
    "error_count = 0\n",
    "with open(original_file_path, \"r\") as f_orig, open(temp_file_path, \"w\") as f_temp:\n",
    "    for line in f_orig:\n",
    "        data = json.loads(line)\n",
    "        if \"choices\" not in data[1]:\n",
    "            response = client.chat.completions.create(**data[0])\n",
    "            data[1] = json.loads(response.model_dump_json())\n",
    "            error_count += 1\n",
    "        f_temp.write(json.dumps(data) + \"\\n\")\n",
    "\n",
    "os.replace(temp_file_path, original_file_path)\n",
    "print(f\"resolved {error_count} errors\")"
   ]
  },
  {
   "cell_type": "code",
   "execution_count": null,
   "metadata": {},
   "outputs": [],
   "source": []
  }
 ],
 "metadata": {
  "kernelspec": {
   "display_name": "base",
   "language": "python",
   "name": "python3"
  },
  "language_info": {
   "codemirror_mode": {
    "name": "ipython",
    "version": 3
   },
   "file_extension": ".py",
   "mimetype": "text/x-python",
   "name": "python",
   "nbconvert_exporter": "python",
   "pygments_lexer": "ipython3",
   "version": "3.11.5"
  }
 },
 "nbformat": 4,
 "nbformat_minor": 2
}
