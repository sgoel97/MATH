{
 "cells": [
  {
   "cell_type": "markdown",
   "metadata": {},
   "source": [
    "# Evaluate Output jsonl File\n"
   ]
  },
  {
   "cell_type": "code",
   "execution_count": 2,
   "metadata": {},
   "outputs": [],
   "source": [
    "%load_ext autoreload\n",
    "%autoreload 2"
   ]
  },
  {
   "cell_type": "code",
   "execution_count": 3,
   "metadata": {},
   "outputs": [],
   "source": [
    "from pathlib import Path\n",
    "import os\n",
    "\n",
    "from utils.string_utils import *\n",
    "from utils.file_utils import *\n",
    "from utils.generation_utils import *"
   ]
  },
  {
   "cell_type": "markdown",
   "metadata": {},
   "source": [
    "## Evaluate jsonl file against Truth\n"
   ]
  },
  {
   "cell_type": "code",
   "execution_count": 7,
   "metadata": {},
   "outputs": [],
   "source": [
    "topic = \"algebra\""
   ]
  },
  {
   "cell_type": "code",
   "execution_count": 9,
   "metadata": {},
   "outputs": [
    {
     "name": "stdout",
     "output_type": "stream",
     "text": [
      "[{'model': 'gpt-3.5-turbo', 'messages': [{'role': 'system', 'content': 'You are a helpful assistant who solves math problems. Box the final answer to each question using the latex \\\\boxed tag'}, {'role': 'user', 'content': 'Which integer is closest to the cube root of 100?'}]}, {'id': 'chatcmpl-8rvlaaIan8DdCgBNUy032uhQSTxAa', 'object': 'chat.completion', 'created': 1707864130, 'model': 'gpt-3.5-turbo-0613', 'choices': [{'index': 0, 'message': {'role': 'assistant', 'content': 'The cube root of 100 is approximately 4.64159. The closest integer to this value is \\\\boxed{5}.'}, 'logprobs': None, 'finish_reason': 'stop'}], 'usage': {'prompt_tokens': 46, 'completion_tokens': 26, 'total_tokens': 72}, 'system_fingerprint': None}, {'row_id': 81}]\n"
     ]
    },
    {
     "ename": "KeyError",
     "evalue": "'filename'",
     "output_type": "error",
     "traceback": [
      "\u001b[0;31m---------------------------------------------------------------------------\u001b[0m",
      "\u001b[0;31mKeyError\u001b[0m                                  Traceback (most recent call last)",
      "Cell \u001b[0;32mIn[9], line 8\u001b[0m\n\u001b[1;32m      6\u001b[0m data \u001b[38;5;241m=\u001b[39m json\u001b[38;5;241m.\u001b[39mloads(line)\n\u001b[1;32m      7\u001b[0m \u001b[38;5;28mprint\u001b[39m(data)\n\u001b[0;32m----> 8\u001b[0m question_filename \u001b[38;5;241m=\u001b[39m data[\u001b[38;5;241m2\u001b[39m][\u001b[38;5;124m\"\u001b[39m\u001b[38;5;124mfilename\u001b[39m\u001b[38;5;124m\"\u001b[39m]\n\u001b[1;32m      9\u001b[0m question \u001b[38;5;241m=\u001b[39m get_question_from_file(\n\u001b[1;32m     10\u001b[0m     Path(\u001b[38;5;124mf\u001b[39m\u001b[38;5;124m\"\u001b[39m\u001b[38;5;124m../data/train/\u001b[39m\u001b[38;5;132;01m{\u001b[39;00mtopic\u001b[38;5;132;01m}\u001b[39;00m\u001b[38;5;124m/\u001b[39m\u001b[38;5;132;01m{\u001b[39;00mquestion_filename\u001b[38;5;132;01m}\u001b[39;00m\u001b[38;5;124m.json\u001b[39m\u001b[38;5;124m\"\u001b[39m)\n\u001b[1;32m     11\u001b[0m )\n\u001b[1;32m     12\u001b[0m answer \u001b[38;5;241m=\u001b[39m data[\u001b[38;5;241m1\u001b[39m][\u001b[38;5;124m\"\u001b[39m\u001b[38;5;124mchoices\u001b[39m\u001b[38;5;124m\"\u001b[39m][\u001b[38;5;241m0\u001b[39m][\u001b[38;5;124m\"\u001b[39m\u001b[38;5;124mmessage\u001b[39m\u001b[38;5;124m\"\u001b[39m][\u001b[38;5;124m\"\u001b[39m\u001b[38;5;124mcontent\u001b[39m\u001b[38;5;124m\"\u001b[39m]\n",
      "\u001b[0;31mKeyError\u001b[0m: 'filename'"
     ]
    }
   ],
   "source": [
    "original_file_path = f\"../data/train_generated/{topic}.jsonl\"\n",
    "temp_file_path = f\"../data/train_generated/{topic}_temp.jsonl\"\n",
    "\n",
    "with open(original_file_path, \"r\") as f_orig, open(temp_file_path, \"w\") as f_temp:\n",
    "    for line in f_orig:\n",
    "        data = json.loads(line)\n",
    "        question_filename = data[2][\"filename\"]\n",
    "        question = get_question_from_file(\n",
    "            Path(f\"../data/train/{topic}/{question_filename}.json\")\n",
    "        )\n",
    "        answer = data[1][\"choices\"][0][\"message\"][\"content\"]\n",
    "        result = bool(verify_answer(answer, question))\n",
    "        data[2][\"result\"] = result\n",
    "        f_temp.write(json.dumps(data) + \"\\n\")\n",
    "\n",
    "os.replace(temp_file_path, original_file_path)"
   ]
  },
  {
   "cell_type": "markdown",
   "metadata": {},
   "source": [
    "## Get Accuracy Rate\n"
   ]
  },
  {
   "cell_type": "code",
   "execution_count": 6,
   "metadata": {},
   "outputs": [
    {
     "name": "stdout",
     "output_type": "stream",
     "text": [
      "8 correct, 9 incorrect\n",
      "Accuracy: 0.47058823529411764\n"
     ]
    }
   ],
   "source": [
    "file_path = f\"../data/train_generated/{topic}.jsonl\"\n",
    "\n",
    "correct = incorrect = 0\n",
    "with open(file_path, \"r\") as f:\n",
    "    for line in f:\n",
    "        data = json.loads(line)\n",
    "        if data[2][\"result\"]:\n",
    "            correct += 1\n",
    "        else:\n",
    "            incorrect += 1\n",
    "\n",
    "print(f\"{correct} correct, {incorrect} incorrect\")\n",
    "print(f\"Accuracy: {correct / (correct + incorrect)}\")"
   ]
  },
  {
   "cell_type": "code",
   "execution_count": null,
   "metadata": {},
   "outputs": [],
   "source": []
  }
 ],
 "metadata": {
  "kernelspec": {
   "display_name": "base",
   "language": "python",
   "name": "python3"
  },
  "language_info": {
   "codemirror_mode": {
    "name": "ipython",
    "version": 3
   },
   "file_extension": ".py",
   "mimetype": "text/x-python",
   "name": "python",
   "nbconvert_exporter": "python",
   "pygments_lexer": "ipython3",
   "version": "3.11.5"
  }
 },
 "nbformat": 4,
 "nbformat_minor": 2
}
